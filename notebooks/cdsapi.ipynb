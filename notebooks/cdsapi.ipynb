{
 "cells": [
  {
   "cell_type": "markdown",
   "id": "3f89b5bb",
   "metadata": {},
   "source": [
    "# Using CDSAPI\n",
    "\n",
    "https://pypi.org/project/cdsapi/\n",
    "\n",
    "You can install it using `conda`:\n",
    "```\n",
    "conda install -c conda-forge cdsapi\n",
    "```\n",
    "\n",
    "You need to add your api key into `~/.cdsapirc`."
   ]
  },
  {
   "cell_type": "markdown",
   "id": "bf9dd0d1-8fbf-4185-a0ff-3a68fea3c026",
   "metadata": {},
   "source": [
    "## Init CDSAPI"
   ]
  },
  {
   "cell_type": "code",
   "execution_count": null,
   "id": "1c723398",
   "metadata": {},
   "outputs": [],
   "source": [
    "import cdsapi"
   ]
  },
  {
   "cell_type": "code",
   "execution_count": null,
   "id": "c5412f4e",
   "metadata": {},
   "outputs": [],
   "source": [
    "c = cdsapi.Client()"
   ]
  },
  {
   "cell_type": "markdown",
   "id": "3e0d515c-dda9-4d07-9912-f81b073f89a8",
   "metadata": {},
   "source": [
    "## Download CMIP6 data"
   ]
  },
  {
   "cell_type": "code",
   "execution_count": null,
   "id": "26771a79",
   "metadata": {},
   "outputs": [],
   "source": [
    "c.retrieve(\n",
    "    'projections-cmip6',\n",
    "    {\n",
    "        'temporal_resolution': 'monthly',\n",
    "        'experiment': 'historical',\n",
    "        'level': 'single_levels',\n",
    "        'variable': 'near_surface_air_temperature',\n",
    "        'model': 'mpi_esm1_2_lr',\n",
    "        'date': '1960-01-01/1960-12-31',\n",
    "        'format': 'zip',\n",
    "    },\n",
    "    'download.zip')"
   ]
  },
  {
   "cell_type": "markdown",
   "id": "e2eafda6-4842-45fa-80c2-9feb9f2b7ab2",
   "metadata": {},
   "source": [
    "## Use command line to extract downloaded data"
   ]
  },
  {
   "cell_type": "code",
   "execution_count": null,
   "id": "a09f3d81",
   "metadata": {},
   "outputs": [],
   "source": [
    "!unzip -fo -d download download.zip "
   ]
  },
  {
   "cell_type": "markdown",
   "id": "91241c60-0423-4b03-a422-0a8ee06511d6",
   "metadata": {},
   "source": [
    "## Use xarray to open CMIP6 data"
   ]
  },
  {
   "cell_type": "code",
   "execution_count": null,
   "id": "690a334e",
   "metadata": {},
   "outputs": [],
   "source": [
    "import xarray as xr"
   ]
  },
  {
   "cell_type": "code",
   "execution_count": null,
   "id": "4cb02620",
   "metadata": {},
   "outputs": [],
   "source": [
    "ds = xr.open_dataset(\"download/tas_Amon_MPI-ESM1-2-LR_historical_r1i1p1f1_gn_19600116-19601216_v20190710.nc\")\n",
    "ds"
   ]
  },
  {
   "cell_type": "markdown",
   "id": "71724cfa-6bb7-4fce-bcec-5272d71e786b",
   "metadata": {},
   "source": [
    "## Plot CMIP6 data"
   ]
  },
  {
   "cell_type": "code",
   "execution_count": null,
   "id": "c7e8a061-0964-4cc0-a79e-40d399dfe820",
   "metadata": {},
   "outputs": [],
   "source": [
    "ds.tas.isel(time=0).plot()"
   ]
  }
 ],
 "metadata": {
  "kernelspec": {
   "display_name": "Python 3 (ipykernel)",
   "language": "python",
   "name": "python3"
  },
  "language_info": {
   "codemirror_mode": {
    "name": "ipython",
    "version": 3
   },
   "file_extension": ".py",
   "mimetype": "text/x-python",
   "name": "python",
   "nbconvert_exporter": "python",
   "pygments_lexer": "ipython3",
   "version": "3.9.7"
  }
 },
 "nbformat": 4,
 "nbformat_minor": 5
}
