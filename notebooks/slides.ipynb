{
 "cells": [
  {
   "cell_type": "markdown",
   "id": "3f10cf83",
   "metadata": {
    "slideshow": {
     "slide_type": "slide"
    }
   },
   "source": [
    "# Create Slides with Rise\n",
    "\n",
    "https://www.blopig.com/blog/2020/10/from-jupyter-to-slides-using-rise/"
   ]
  },
  {
   "cell_type": "markdown",
   "id": "0e8f2840",
   "metadata": {
    "slideshow": {
     "slide_type": "subslide"
    }
   },
   "source": [
    "## Write Slides as PDF\n",
    "\n",
    "https://rise.readthedocs.io/en/stable/exportpdf.html"
   ]
  },
  {
   "cell_type": "markdown",
   "id": "ec357a29",
   "metadata": {
    "slideshow": {
     "slide_type": "slide"
    }
   },
   "source": [
    "## Show Climate Data Store\n",
    "\n",
    "https://cds.climate.copernicus.eu/"
   ]
  },
  {
   "cell_type": "markdown",
   "id": "c69b6bb5",
   "metadata": {
    "slideshow": {
     "slide_type": "subslide"
    }
   },
   "source": [
    "## Demo\n",
    "\n",
    "* download in Climate Data Store portal\n",
    "* show Toolbox Editor\n",
    "* show notebook with CDSAPI\n",
    "* show notebook with Rooki"
   ]
  }
 ],
 "metadata": {
  "celltoolbar": "Slideshow",
  "kernelspec": {
   "display_name": "Python 3 (ipykernel)",
   "language": "python",
   "name": "python3"
  },
  "language_info": {
   "codemirror_mode": {
    "name": "ipython",
    "version": 3
   },
   "file_extension": ".py",
   "mimetype": "text/x-python",
   "name": "python",
   "nbconvert_exporter": "python",
   "pygments_lexer": "ipython3",
   "version": "3.9.7"
  }
 },
 "nbformat": 4,
 "nbformat_minor": 5
}
