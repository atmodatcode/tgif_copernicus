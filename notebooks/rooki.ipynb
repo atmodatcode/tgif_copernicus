{
 "cells": [
  {
   "cell_type": "markdown",
   "id": "31690744",
   "metadata": {
    "tags": []
   },
   "source": [
    "# Use Rooki to access CMIP6 data\n",
    "\n",
    "[Rooki](https://github.com/roocs/rooki) is a Python client to interact with [Rook](https://github.com/roocs/rook) data reduction service for climate model data. This service is used in the backend by the Climate Data Store to access the CMIP6 data pool. The Rook service is deployed for load-balancing at CEDA (UK), IPSL (FR) and DKRZ (DE). The CMIP6 data pool is shared with ESGF. The available CMIP6 subset for Copernicus is synchronized at all three sites. \n",
    "\n",
    "* Rooki: https://github.com/roocs/rooki\n",
    "* Talk: https://github.com/cehbrecht/cordex-workshop-talk-rook-4cds/blob/main/Rook.pdf"
   ]
  },
  {
   "cell_type": "markdown",
   "id": "dd77c5b2",
   "metadata": {},
   "source": [
    "## Overview\n",
    "\n",
    "![rook 4 cds](https://github.com/cehbrecht/cordex-workshop-talk-rook-4cds/raw/main/media/rook-4cds.png)"
   ]
  },
  {
   "cell_type": "markdown",
   "id": "288086a4",
   "metadata": {},
   "source": [
    "## Init Rooki"
   ]
  },
  {
   "cell_type": "code",
   "execution_count": null,
   "id": "a2339b90",
   "metadata": {},
   "outputs": [],
   "source": [
    "import os\n",
    "os.environ['ROOK_URL'] = 'http://rook.dkrz.de/wps'\n",
    "\n",
    "from rooki import rooki"
   ]
  },
  {
   "cell_type": "markdown",
   "id": "d6ed87c2",
   "metadata": {},
   "source": [
    "## Retrieve subset of CMIP6 data"
   ]
  },
  {
   "cell_type": "code",
   "execution_count": null,
   "id": "6e071b15",
   "metadata": {},
   "outputs": [],
   "source": [
    "resp = rooki.subset(\n",
    "    collection='c3s-cmip6.CMIP.MPI-M.MPI-ESM1-2-HR.historical.r1i1p1f1.Amon.tas.gn.v20190710',\n",
    "    time='2000-01-01/2000-01-31',\n",
    "    area='-40,-40,70,70',\n",
    ")\n",
    "resp.ok"
   ]
  },
  {
   "cell_type": "markdown",
   "id": "f822b3c8",
   "metadata": {},
   "source": [
    "## Open Dataset with xarray"
   ]
  },
  {
   "cell_type": "code",
   "execution_count": null,
   "id": "eacbecbd",
   "metadata": {},
   "outputs": [],
   "source": [
    "ds = resp.datasets()[0]\n",
    "ds"
   ]
  },
  {
   "cell_type": "markdown",
   "id": "46301d38",
   "metadata": {},
   "source": [
    "## Plot CMIP6 Dataset"
   ]
  },
  {
   "cell_type": "code",
   "execution_count": null,
   "id": "05482a1d",
   "metadata": {},
   "outputs": [],
   "source": [
    "ds.tas.isel(time=0).plot()"
   ]
  },
  {
   "cell_type": "markdown",
   "id": "94409343",
   "metadata": {},
   "source": [
    "## Show Provenance"
   ]
  },
  {
   "cell_type": "code",
   "execution_count": null,
   "id": "11af235a",
   "metadata": {},
   "outputs": [],
   "source": [
    "from IPython.display import Image\n",
    "Image(resp.provenance_image())"
   ]
  }
 ],
 "metadata": {
  "kernelspec": {
   "display_name": "Python 3 (ipykernel)",
   "language": "python",
   "name": "python3"
  },
  "language_info": {
   "codemirror_mode": {
    "name": "ipython",
    "version": 3
   },
   "file_extension": ".py",
   "mimetype": "text/x-python",
   "name": "python",
   "nbconvert_exporter": "python",
   "pygments_lexer": "ipython3",
   "version": "3.9.7"
  }
 },
 "nbformat": 4,
 "nbformat_minor": 5
}
