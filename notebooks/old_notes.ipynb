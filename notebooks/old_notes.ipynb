{
 "cells": [
  {
   "cell_type": "markdown",
   "id": "40d073e5-e439-41a7-aae6-b97ac2d97b81",
   "metadata": {
    "slideshow": {
     "slide_type": "slide"
    },
    "tags": []
   },
   "source": [
    "# Introduction to the Copernicus Climate Data Store (CDS) "
   ]
  },
  {
   "cell_type": "markdown",
   "id": "fa467fa8-6ac6-4600-a451-d8beb41313f7",
   "metadata": {},
   "source": [
    "## What is the Copernicus Climate Data Store (CDS)?"
   ]
  },
  {
   "cell_type": "markdown",
   "id": "70dc7f82-c708-4da2-afc4-f600602bc4b1",
   "metadata": {
    "slideshow": {
     "slide_type": "slide"
    },
    "tags": []
   },
   "source": [
    "* what is Copernicus?  --> Angelika\n",
    "* what is the purpose of the CDS? ---> Angelika"
   ]
  },
  {
   "cell_type": "markdown",
   "id": "e9bd02de-ef71-4f57-b4b2-3ba8d0a51068",
   "metadata": {},
   "source": [
    "## Elements of the Copernicus Climate Data Store (CDS)?"
   ]
  },
  {
   "cell_type": "markdown",
   "id": "29ae3e7a-43eb-4960-8b54-59d4f2fdd016",
   "metadata": {},
   "source": [
    "### Data repository"
   ]
  },
  {
   "cell_type": "markdown",
   "id": "7ab51044-d1ee-4824-8469-afc2d3afddbd",
   "metadata": {},
   "source": [
    "#### What kind of dataset are stored at the CDS?"
   ]
  },
  {
   "cell_type": "markdown",
   "id": "c37fcf1c-7e0c-4141-9cba-669ebab9e838",
   "metadata": {},
   "source": [
    "See Search –> Datasets –> Product Type: https://cds.climate.copernicus.eu/cdsapp#!/search?type=dataset"
   ]
  },
  {
   "cell_type": "markdown",
   "id": "200d0823-dddd-4731-924b-3c6ecddee99f",
   "metadata": {},
   "source": [
    "First of all:  \n",
    "Reanalysis (34)  \n",
    "Satellite observations (31)  \n",
    "Climate projections (28)  –> Carsten  \n",
    "\n",
    "\n",
    "Most of the datasets are  \n",
    "– global  \n",
    "– related to atmosphere  \n",
    "– related the past  \n",
    "– provided by Copernicus C3S  \n"
   ]
  },
  {
   "cell_type": "markdown",
   "id": "19d3ca6a-6551-4456-8582-cabc32a4be5c",
   "metadata": {},
   "source": [
    "There is also an ADS, which uses the software as the CDS. But since CDS API retrieves data from ECMWF mars, subsetting is directly performed when connecting to the mars interface.   \n",
    "https://ads.atmosphere.copernicus.eu/cdsapp#!/dataset/cams-global-reanalysis-eac4-monthly?tab=form"
   ]
  },
  {
   "cell_type": "markdown",
   "id": "52e11e3e-8297-42b8-865c-13bafbfdb810",
   "metadata": {},
   "source": [
    "### Applications"
   ]
  },
  {
   "cell_type": "markdown",
   "id": "b07758b0-3fbd-4f40-a50a-82c9916de318",
   "metadata": {},
   "source": [
    "#### What kind of applications are provided at the CDS?"
   ]
  },
  {
   "cell_type": "markdown",
   "id": "b6fe41f1-5b5e-44f0-9af6-b95cf7f73be8",
   "metadata": {},
   "source": [
    "– For individual climate variables or A variety of web-based data explorers in form of dashboards that allow users to interactively create figures.   \n",
    "– Each explorer contains 4 tabs: Overview, Application, Documentation and Source code"
   ]
  },
  {
   "cell_type": "markdown",
   "id": "dff3f0db-9c46-4e17-90a2-20093ccab837",
   "metadata": {},
   "source": [
    "### CDS Toolbox"
   ]
  },
  {
   "cell_type": "markdown",
   "id": "3c6fe17e-896a-4bb7-adf3-40fe191c2ad5",
   "metadata": {},
   "source": [
    "###  CDS API"
   ]
  },
  {
   "cell_type": "code",
   "execution_count": null,
   "id": "9044dd6c-a7b9-44fe-90e2-73b36dbc568c",
   "metadata": {},
   "outputs": [],
   "source": []
  },
  {
   "cell_type": "markdown",
   "id": "c9b12ec0-84f4-4779-9d9d-d6b0d672c352",
   "metadata": {},
   "source": [
    "## DKRZ's contribution to CDS"
   ]
  },
  {
   "cell_type": "markdown",
   "id": "0a924385-f805-4c0a-8846-b65f55634caf",
   "metadata": {},
   "source": [
    "### Datasets: CMIP6 climate projections  \n",
    "https://cds.climate.copernicus.eu/cdsapp#!/dataset/projections-cmip6?tab=overview"
   ]
  },
  {
   "cell_type": "markdown",
   "id": "eb92c74a-14d6-4611-af11-42cb9b7d0829",
   "metadata": {},
   "source": [
    "DKRZ contributes to the development of data subsetting options before download"
   ]
  },
  {
   "cell_type": "markdown",
   "id": "878abc7d-6ee6-407a-b0e2-cdf220f863cc",
   "metadata": {},
   "source": [
    "Ag Stephens (CIDA-SDFC), supported by Carsten and Martin, developed a Python routine to allow for spatial and temporal subsetting of the data.  \n",
    "Currently, they are also working on code that allows for  \n",
    "– spatial regridding of the data  \n",
    "– spatial and temporal averaging  \n",
    "prior to the download."
   ]
  },
  {
   "cell_type": "markdown",
   "id": "2e04edb9-e26e-486f-ae64-2cd8f78b3b58",
   "metadata": {},
   "source": [
    "Technically, this service is installed as web processing service at DKRZ. Some explanation: "
   ]
  },
  {
   "cell_type": "markdown",
   "id": "aa597e2d-06b6-4354-8d8d-da8e2ccde937",
   "metadata": {},
   "source": [
    " Search –> Climate projections –> Future"
   ]
  },
  {
   "cell_type": "markdown",
   "id": "42a8ba50-13e7-4163-89a1-1de5c5de0ecd",
   "metadata": {},
   "source": [
    "CMIP5  \n",
    "CMIP6  \n",
    "Ohters  \n",
    "--> Selection options have a coarse granularity and also the database search by categories show inconsistencies (e.g. number of datasets by Provider is lower than total number of datasets by Product type; apparently, provider attribute not filled out correctly)"
   ]
  },
  {
   "cell_type": "markdown",
   "id": "8a6fc30f-ce3c-44fe-a645-754db05370e8",
   "metadata": {},
   "source": [
    "Tab download data  \n",
    "– when users opt for the entire datasets, the original CMIP6 data files will be made available for download \n",
    "\n",
    "– when users opt for subsetting, they won't obtain the original data as there will be some postprocessing via the WPS before the requestes data are provided to the users"
   ]
  },
  {
   "cell_type": "markdown",
   "id": "ca95e5c3-a408-42ae-8dac-5dde9a0b70a3",
   "metadata": {},
   "source": [
    "CMIP5:  subset datasets not yet implemented"
   ]
  },
  {
   "cell_type": "code",
   "execution_count": null,
   "id": "e238a667-dc0d-43a0-9527-80e5637e1365",
   "metadata": {},
   "outputs": [],
   "source": []
  }
 ],
 "metadata": {
  "kernelspec": {
   "display_name": "Python 3 (ipykernel)",
   "language": "python",
   "name": "python3"
  },
  "language_info": {
   "codemirror_mode": {
    "name": "ipython",
    "version": 3
   },
   "file_extension": ".py",
   "mimetype": "text/x-python",
   "name": "python",
   "nbconvert_exporter": "python",
   "pygments_lexer": "ipython3",
   "version": "3.9.7"
  }
 },
 "nbformat": 4,
 "nbformat_minor": 5
}
